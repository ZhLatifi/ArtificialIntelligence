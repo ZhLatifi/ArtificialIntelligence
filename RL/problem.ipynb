{
 "cells": [
  {
   "cell_type": "markdown",
   "metadata": {
    "id": "y-W8XseBjGVG",
    "pycharm": {
     "name": "#%% md\n"
    }
   },
   "source": [
    "## Imports"
   ]
  },
  {
   "cell_type": "code",
   "execution_count": 129,
   "metadata": {
    "colab": {
     "base_uri": "https://localhost:8080/"
    },
    "id": "vyPJu5LkIWsK",
    "outputId": "dcf18e3b-841e-4d53-c29b-288e9b15be62"
   },
   "outputs": [
    {
     "name": "stdout",
     "output_type": "stream",
     "text": [
      "Requirement already satisfied: gymnasium in c:\\users\\user\\appdata\\roaming\\python\\python310\\site-packages (0.29.1)\n",
      "Requirement already satisfied: typing-extensions>=4.3.0 in c:\\users\\user\\appdata\\roaming\\python\\python310\\site-packages (from gymnasium) (4.9.0)\n",
      "Requirement already satisfied: numpy>=1.21.0 in c:\\users\\user\\appdata\\roaming\\python\\python310\\site-packages (from gymnasium) (1.26.2)\n",
      "Requirement already satisfied: farama-notifications>=0.0.1 in c:\\users\\user\\appdata\\roaming\\python\\python310\\site-packages (from gymnasium) (0.0.4)\n",
      "Requirement already satisfied: cloudpickle>=1.2.0 in c:\\users\\user\\appdata\\roaming\\python\\python310\\site-packages (from gymnasium) (3.0.0)\n",
      "Requirement already satisfied: imageio-ffmpeg in c:\\users\\user\\anaconda3\\lib\\site-packages (0.4.7)\n"
     ]
    }
   ],
   "source": [
    "# !pip install gymnasium\n",
    "# !pip install imageio-ffmpeg"
   ]
  },
  {
   "cell_type": "code",
   "execution_count": 130,
   "metadata": {
    "id": "Yzi2rkXljGVJ",
    "pycharm": {
     "is_executing": true,
     "name": "#%%\n"
    }
   },
   "outputs": [],
   "source": [
    "import numpy as np\n",
    "import gymnasium as gym\n",
    "from IPython.display import HTML\n",
    "from base64 import b64encode\n",
    "import imageio"
   ]
  },
  {
   "cell_type": "markdown",
   "metadata": {
    "id": "L9dykuZijGVM",
    "pycharm": {
     "name": "#%% md\n"
    }
   },
   "source": [
    "## Utils"
   ]
  },
  {
   "cell_type": "code",
   "execution_count": 131,
   "metadata": {
    "id": "jHlPsfqzjGVM",
    "pycharm": {
     "name": "#%%\n"
    }
   },
   "outputs": [],
   "source": [
    "def record_video(env, policy, out_directory, fps=1, random_action=False, max_steps=100):\n",
    "    images = []\n",
    "    done = False\n",
    "    truncated = False\n",
    "    state, info = env.reset()\n",
    "    img = env.render()\n",
    "    images.append(img)\n",
    "    total_reward = 0\n",
    "    i = 0\n",
    "    while not done and not truncated:\n",
    "        i += 1\n",
    "        if i > max_steps:\n",
    "            break\n",
    "        action = np.random.randint(4) if random_action else policy[state]\n",
    "        state, reward, done, truncated, info = env.step(action)\n",
    "        total_reward += reward\n",
    "        img = env.render()\n",
    "        images.append(img)\n",
    "        if not random_action:\n",
    "            print(f\"action: {action}, state: {state}, reward: {reward}, done: {done}, truncated: {truncated}, info: {info}\")\n",
    "    imageio.mimsave(out_directory, [np.array(img) for i, img in enumerate(images)], fps=fps)\n",
    "    return total_reward"
   ]
  },
  {
   "cell_type": "code",
   "execution_count": 132,
   "metadata": {
    "id": "I87GQUrhjGVN",
    "pycharm": {
     "name": "#%%\n"
    }
   },
   "outputs": [],
   "source": [
    "def show_video(video_path, video_width=500):\n",
    "    video_file = open(video_path, \"r+b\").read()\n",
    "    video_url = f\"data:video/mp4;base64,{b64encode(video_file).decode()}\"\n",
    "    return HTML(f\"\"\"<video width={video_width} controls><source src=\"{video_url}\"></video>\"\"\")"
   ]
  },
  {
   "cell_type": "markdown",
   "metadata": {
    "id": "xXIctppejGVO",
    "pycharm": {
     "name": "#%% md\n"
    }
   },
   "source": [
    "## Random Walk"
   ]
  },
  {
   "cell_type": "code",
   "execution_count": 133,
   "metadata": {
    "colab": {
     "base_uri": "https://localhost:8080/",
     "height": 538
    },
    "id": "z-3JoJx6jGVP",
    "outputId": "6025e358-5bb0-4a16-b0ff-b48319d10205",
    "pycharm": {
     "name": "#%%\n"
    }
   },
   "outputs": [
    {
     "name": "stdout",
     "output_type": "stream",
     "text": [
      "total reward: 0.0\n"
     ]
    },
    {
     "data": {
      "text/html": [
       "<video width=500 controls><source src=\"data:video/mp4;base64,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\"></video>"
      ],
      "text/plain": [
       "<IPython.core.display.HTML object>"
      ]
     },
     "execution_count": 133,
     "metadata": {},
     "output_type": "execute_result"
    }
   ],
   "source": [
    "env = gym.make(\"FrozenLake-v1\", map_name=\"4x4\", is_slippery=False, render_mode='rgb_array')\n",
    "total_reward = record_video(env, None, 'frozenlake_random.mp4', fps=3, random_action=True)\n",
    "print(f\"total reward: {total_reward}\")\n",
    "show_video('frozenlake_random.mp4', video_width=500)"
   ]
  },
  {
   "cell_type": "markdown",
   "metadata": {
    "id": "FHRJbzwOjGVP",
    "pycharm": {
     "name": "#%% md\n"
    }
   },
   "source": [
    "## Define FrozenLake MDP"
   ]
  },
  {
   "cell_type": "code",
   "execution_count": 134,
   "metadata": {
    "id": "0fV9eLFhjGVQ",
    "pycharm": {
     "name": "#%%\n"
    }
   },
   "outputs": [],
   "source": [
    "class FrozenLakeMDP:\n",
    "    def __init__(self, is_slippery):\n",
    "        self.is_slippery = is_slippery\n",
    "        self.terminal_states = np.zeros(16, dtype=int)\n",
    "        self.terminal_states[[5, 7, 11, 12, 15]] = 1\n",
    "        self.reward_fn = np.zeros(16, dtype=int)\n",
    "        self.reward_fn[15] = 1\n",
    "\n",
    "    def is_terminal(self, state):\n",
    "        return self.terminal_states[state]\n",
    "\n",
    "    def get_reward_function(self):\n",
    "        return self.reward_fn\n",
    "\n",
    "    def next_state_det(self, state, action):\n",
    "        if action == 0:    # LEFT\n",
    "            next_state = state - 1 if state % 4 != 0 else state\n",
    "        elif action == 1:  # DOWN\n",
    "            next_state = state + 4 if state // 4 != 3 else state\n",
    "        elif action == 2:  # RIGHT\n",
    "            next_state = state + 1 if state % 4 != 3 else state\n",
    "        elif action == 3:  # UP\n",
    "            next_state = state - 4 if state // 4 != 0 else state\n",
    "        else:         # WRONG ACTION\n",
    "            next_state = state\n",
    "        return next_state\n",
    "\n",
    "    def trans_prob(self, state, action):\n",
    "        prob = np.zeros((16,), dtype=float)\n",
    "        if not self.is_slippery:\n",
    "            prob[self.next_state_det(state, action)] = 1.0\n",
    "        else:\n",
    "            prob[self.next_state_det(state, action)] += 1/3\n",
    "            prob[self.next_state_det(state, (action+1)%4)] += 1/3\n",
    "            prob[self.next_state_det(state, (action-1)%4)] += 1/3\n",
    "        return prob\n",
    "\n",
    "    def next_state_reward(self, state, action):\n",
    "        next_state_probs = self.trans_prob(state, action)\n",
    "        next_state = np.random.choice(16, p=next_state_probs)\n",
    "        reward = self.reward_fn[next_state]\n",
    "        return next_state, reward"
   ]
  },
  {
   "cell_type": "code",
   "execution_count": 135,
   "metadata": {
    "id": "n97be6-ejGVQ",
    "pycharm": {
     "name": "#%%\n"
    }
   },
   "outputs": [],
   "source": [
    "dynamics = FrozenLakeMDP(is_slippery=False)"
   ]
  },
  {
   "cell_type": "code",
   "execution_count": 136,
   "metadata": {
    "colab": {
     "base_uri": "https://localhost:8080/"
    },
    "id": "W9F5YlqHjGVR",
    "outputId": "91eb11f3-e8c4-4cb3-d67d-709545b055aa",
    "pycharm": {
     "name": "#%%\n"
    }
   },
   "outputs": [
    {
     "data": {
      "text/plain": [
       "array([0, 0, 0, 0, 0, 0, 0, 0, 0, 0, 0, 0, 0, 0, 0, 1])"
      ]
     },
     "execution_count": 136,
     "metadata": {},
     "output_type": "execute_result"
    }
   ],
   "source": [
    "# reward function of the environent\n",
    "dynamics.get_reward_function()"
   ]
  },
  {
   "cell_type": "code",
   "execution_count": 137,
   "metadata": {
    "colab": {
     "base_uri": "https://localhost:8080/"
    },
    "id": "NfkMp7RRjGVR",
    "outputId": "e24e9a9b-cb52-449a-ea10-6092fd6669b2",
    "pycharm": {
     "name": "#%%\n"
    }
   },
   "outputs": [
    {
     "name": "stdout",
     "output_type": "stream",
     "text": [
      "0 1 1\n"
     ]
    }
   ],
   "source": [
    "# evaluating if a given state is a terminal state (= hole or goal)\n",
    "print(dynamics.is_terminal(0), dynamics.is_terminal(7), dynamics.is_terminal(15))"
   ]
  },
  {
   "cell_type": "code",
   "execution_count": 138,
   "metadata": {
    "colab": {
     "base_uri": "https://localhost:8080/"
    },
    "id": "lIlmiox1jGVS",
    "outputId": "5c837ea8-d849-4a39-cf6b-778553e2a569",
    "pycharm": {
     "name": "#%%\n"
    }
   },
   "outputs": [
    {
     "data": {
      "text/plain": [
       "array([0., 0., 0., 0., 0., 0., 0., 0., 0., 0., 0., 0., 0., 0., 0., 1.])"
      ]
     },
     "execution_count": 138,
     "metadata": {},
     "output_type": "execute_result"
    }
   ],
   "source": [
    "# if we take action `a` in state `s`,\n",
    "# what is the probability of landing in each state?\n",
    "dynamics.trans_prob(14, 2)"
   ]
  },
  {
   "cell_type": "code",
   "execution_count": 139,
   "metadata": {
    "colab": {
     "base_uri": "https://localhost:8080/"
    },
    "id": "lY0y8isljGVS",
    "outputId": "b9d1b008-2ead-4b25-8c56-0739da533916",
    "pycharm": {
     "name": "#%%\n"
    }
   },
   "outputs": [
    {
     "name": "stdout",
     "output_type": "stream",
     "text": [
      "15 1\n"
     ]
    }
   ],
   "source": [
    "# if we take action `a` in state `s`, what do we get?\n",
    "# this is done through sampling the transition probability\n",
    "next_state, reward = dynamics.next_state_reward(14, 2)\n",
    "print(next_state, reward)"
   ]
  },
  {
   "cell_type": "markdown",
   "metadata": {
    "id": "asQavSEWjGVS",
    "pycharm": {
     "name": "#%% md\n"
    }
   },
   "source": [
    "## Iterative Policy Evaluation"
   ]
  },
  {
   "cell_type": "code",
   "execution_count": 140,
   "metadata": {
    "id": "AocagVeXjGVT",
    "pycharm": {
     "name": "#%%\n"
    }
   },
   "outputs": [],
   "source": [
    "def policy_evaluation(dynamics, policy, gamma=0.9, num_iter=10):\n",
    "    \"\"\"\n",
    "    evaluates policy based on Iterative Policy Evaluation.\n",
    "\n",
    "    Args:\n",
    "        dynamics (FrozenLakeMDP): dynamics of the environment.\n",
    "        policy (numpy.array): policy we want to evaluate.\n",
    "        gamma (float): discount factor.\n",
    "        num_iter (int): number of iterations for the loop.\n",
    "\n",
    "    Returns:\n",
    "        numpy.array: state value function.\n",
    "    \"\"\"\n",
    "\n",
    "    # TODO: implement Iterative Policy Evaluation algorithm\n",
    "    state_len = 16\n",
    "    action_len = 4\n",
    "    s_value_function = np.zeros(16, dtype=float)\n",
    "    for i in range(num_iter):\n",
    "        # for all state\n",
    "        for s in range(state_len):\n",
    "            # we will get new state value\n",
    "            new_s = 0\n",
    "            a = policy[s]\n",
    "            transition_prob = dynamics.trans_prob(s, a)\n",
    "            next_state, reward = dynamics.next_state_reward(s, a)\n",
    "            new_s += transition_prob[next_state]*(reward+gamma*s_value_function[next_state])\n",
    "            if dynamics.is_terminal(s) == 1 and s != 15:\n",
    "                s_value_function[s] = 0\n",
    "            else:\n",
    "                s_value_function[s] = new_s\n",
    "\n",
    "    return s_value_function"
   ]
  },
  {
   "cell_type": "code",
   "execution_count": 141,
   "metadata": {
    "id": "rg7FxX1CjGVT",
    "pycharm": {
     "name": "#%%\n"
    }
   },
   "outputs": [],
   "source": [
    "dynamics = FrozenLakeMDP(is_slippery=False)\n",
    "\n",
    "# 1. go-right policy\n",
    "policy1 = 2 * np.ones(16, dtype=int)\n",
    "\n",
    "# 2. shortest-path policy\n",
    "policy2 = np.array([1, 2, 1, 0, 1, -1, 1, -1, 2, 1, 1, -1, -1, 2, 2, -1])\n",
    "\n",
    "s_value_function1 = policy_evaluation(dynamics, policy1)\n",
    "s_value_function2 = policy_evaluation(dynamics, policy2)"
   ]
  },
  {
   "cell_type": "code",
   "execution_count": 142,
   "metadata": {
    "colab": {
     "base_uri": "https://localhost:8080/"
    },
    "id": "0OXS8uhkjGVT",
    "outputId": "33b87a7f-ee11-442c-fe39-cc7df4aac284",
    "pycharm": {
     "name": "#%%\n"
    }
   },
   "outputs": [
    {
     "name": "stdout",
     "output_type": "stream",
     "text": [
      "State values for go-right policy:\n",
      "[[0.    0.    0.    0.   ]\n",
      " [0.    0.    0.    0.   ]\n",
      " [0.    0.    0.    0.   ]\n",
      " [0.    5.513 6.513 6.513]]\n",
      "\n",
      "State values for shortest-path policy:\n",
      "[[2.418 3.074 3.803 3.423]\n",
      " [3.074 0.    4.613 0.   ]\n",
      " [3.803 4.613 5.513 0.   ]\n",
      " [0.    5.513 6.513 6.513]]\n"
     ]
    }
   ],
   "source": [
    "# TODO: print and analyze the state value function\n",
    "print(\"State values for go-right policy:\")\n",
    "print(np.round(s_value_function1.reshape(4,4), 3))\n",
    "print(\"\\nState values for shortest-path policy:\")\n",
    "print(np.round(s_value_function2.reshape(4,4), 3))"
   ]
  },
  {
   "cell_type": "markdown",
   "metadata": {
    "id": "NKlopCx9jGVT",
    "pycharm": {
     "name": "#%% md\n"
    }
   },
   "source": [
    "## Policy Iteration"
   ]
  },
  {
   "cell_type": "code",
   "execution_count": 143,
   "metadata": {
    "id": "Od83r7_3jGVU",
    "pycharm": {
     "name": "#%%\n"
    }
   },
   "outputs": [],
   "source": [
    "def greedy_policy_improvement(dynamics, s_value_function, gamma=0.9):\n",
    "    \"\"\"\n",
    "    obtains a policy in a greedy manner based on current state value function.\n",
    "\n",
    "    Args:\n",
    "        dynamics (FrozenLakeMDP): dynamics of the environment.\n",
    "        s_value_function (numpy.array): state value function.\n",
    "        gamma (float): discount factor.\n",
    "\n",
    "    Returns:\n",
    "        numpy.array: the greedy policy.\n",
    "    \"\"\"\n",
    "\n",
    "    # TODO: implement Greedy Policy Improvement algorithm\n",
    "    state_len = 16\n",
    "    action_len = 4\n",
    "    policy = np.random.randint(0, 4, size=16)\n",
    "    for s in range(state_len):\n",
    "        q_values = np.zeros(action_len)\n",
    "        for a in range(action_len):\n",
    "          transition_prob = dynamics.trans_prob(s, a)\n",
    "          next_state, reward = dynamics.next_state_reward(s, a)\n",
    "          q_values[a] += transition_prob[next_state]*(reward + gamma * s_value_function[next_state])\n",
    "        policy[s] = np.argmax(q_values)\n",
    "\n",
    "    return policy"
   ]
  },
  {
   "cell_type": "code",
   "execution_count": 144,
   "metadata": {
    "id": "Y2Zz5MXIjGVU",
    "pycharm": {
     "name": "#%%\n"
    }
   },
   "outputs": [],
   "source": [
    "def policy_iteration(dynamics, gamma=0.9, outer_iter=100, inner_iter=100):\n",
    "    \"\"\"\n",
    "    optimizes a policy based on Policy Iteration\n",
    "\n",
    "    Args:\n",
    "        dynamics (FrozenLakeMDP): dynamics of the environment.\n",
    "        gamma (float): discount factor.\n",
    "        outer_iter (int): number of iterations for the Policy Iteration loop.\n",
    "        inner_iter (int): number of iterations for the Policy Evaluation loop.\n",
    "\n",
    "    Returns:\n",
    "        numpy.array: the optimized policy.\n",
    "    \"\"\"\n",
    "\n",
    "    # TODO: implement Policy Iteration algorithm\n",
    "    state_len = 16\n",
    "    action_len = 4\n",
    "    s_value_function = np.zeros(state_len)\n",
    "    policy = np.random.randint(0, 4, size=16)\n",
    "    for i in range(outer_iter):\n",
    "        old_policy = policy.copy()\n",
    "        s_value_function = policy_evaluation(dynamics, policy, gamma, inner_iter)\n",
    "        policy = greedy_policy_improvement(dynamics, s_value_function, gamma)\n",
    "        if np.all(old_policy == policy):\n",
    "            break\n",
    "    return policy"
   ]
  },
  {
   "cell_type": "code",
   "execution_count": 145,
   "metadata": {
    "colab": {
     "base_uri": "https://localhost:8080/"
    },
    "id": "hhC3ko29jGVU",
    "outputId": "66ecc261-5155-4c88-c7fc-29103da5ed0f",
    "pycharm": {
     "name": "#%%\n"
    }
   },
   "outputs": [
    {
     "data": {
      "text/plain": [
       "array([1, 2, 1, 0, 1, 1, 1, 0, 2, 1, 1, 1, 2, 2, 2, 1])"
      ]
     },
     "execution_count": 145,
     "metadata": {},
     "output_type": "execute_result"
    }
   ],
   "source": [
    "# TODO: test and analyze the algorithm\n",
    "dynamics = FrozenLakeMDP(is_slippery=False)\n",
    "policy = policy_iteration(dynamics)\n",
    "policy"
   ]
  },
  {
   "cell_type": "code",
   "execution_count": 146,
   "metadata": {
    "colab": {
     "base_uri": "https://localhost:8080/",
     "height": 643
    },
    "id": "jfBCsfBmjGVU",
    "outputId": "83497b65-1d70-48e6-d1d0-9e42127455a3",
    "pycharm": {
     "name": "#%%\n"
    }
   },
   "outputs": [
    {
     "name": "stdout",
     "output_type": "stream",
     "text": [
      "action: 1, state: 4, reward: 0.0, done: False, truncated: False, info: {'prob': 1.0}\n",
      "action: 1, state: 8, reward: 0.0, done: False, truncated: False, info: {'prob': 1.0}\n",
      "action: 2, state: 9, reward: 0.0, done: False, truncated: False, info: {'prob': 1.0}\n",
      "action: 1, state: 13, reward: 0.0, done: False, truncated: False, info: {'prob': 1.0}\n",
      "action: 2, state: 14, reward: 0.0, done: False, truncated: False, info: {'prob': 1.0}\n",
      "action: 2, state: 15, reward: 1.0, done: True, truncated: False, info: {'prob': 1.0}\n",
      "total reward: 1.0\n"
     ]
    },
    {
     "data": {
      "text/html": [
       "<video width=500 controls><source src=\"data:video/mp4;base64,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\"></video>"
      ],
      "text/plain": [
       "<IPython.core.display.HTML object>"
      ]
     },
     "execution_count": 146,
     "metadata": {},
     "output_type": "execute_result"
    }
   ],
   "source": [
    "# TODO: test the policy on the environment\n",
    "env = gym.make(\"FrozenLake-v1\", map_name=\"4x4\", is_slippery=False, render_mode='rgb_array')\n",
    "total_reward = record_video(env, policy, 'frozenlake_random.mp4', fps=5, random_action=False)\n",
    "print(f\"total reward: {total_reward}\")\n",
    "show_video('frozenlake_random.mp4', video_width=500)"
   ]
  },
  {
   "cell_type": "markdown",
   "metadata": {
    "id": "p_G1rINpjGVV",
    "pycharm": {
     "name": "#%% md\n"
    }
   },
   "source": [
    "## Q-Learning"
   ]
  },
  {
   "cell_type": "code",
   "execution_count": 147,
   "metadata": {
    "id": "XYqJbixojGVV",
    "pycharm": {
     "name": "#%%\n"
    }
   },
   "outputs": [],
   "source": [
    "class QAgent:  # The Q-Learning RL agent\n",
    "\n",
    "    def __init__(self, num_states, num_actions, epsilon, alpha, gamma=0.9, eps_end=0.01, eps_decay=3e-6):\n",
    "\n",
    "        self.num_states = num_states    # number of possible states\n",
    "        self.num_actions = num_actions  # number of possible actions\n",
    "        self.gamma = gamma              # discount factor\n",
    "        self.epsilon = epsilon          # initial exploration probability\n",
    "        self.alpha = alpha              # step size\n",
    "        self.eps_decay = eps_decay      # linear decay rate of epsilon\n",
    "        self.eps_end = eps_end          # minimum value for epsilon\n",
    "        self.q_table = np.zeros((num_states, num_actions), dtype=float)\n",
    "\n",
    "    def choose_action(self, state):\n",
    "        \"\"\"\n",
    "        chooses an action in an epsilon-greedy manner.\n",
    "\n",
    "        Args:\n",
    "            state (int): current state of the agent.\n",
    "\n",
    "        Returns:\n",
    "            int: the chosen action\n",
    "        \"\"\"\n",
    "\n",
    "        # TODO: implement epsilon-greedy action selection\n",
    "        if np.random.rand() < self.epsilon:\n",
    "            action = np.random.randint(self.q_table.shape[1])\n",
    "        else:\n",
    "            action = np.argmax(self.q_table[state])\n",
    "        return action\n",
    "\n",
    "    def learn(self, state, action, reward, next_state):\n",
    "        \"\"\"\n",
    "        updates the q-table based on a single interaction with the environment.\n",
    "\n",
    "        Args:\n",
    "            state (int): state of the agent.\n",
    "            action (int): action chosen by the agent.\n",
    "            reward (int): reward obtained by the agent.\n",
    "            next_state (int): next state of the agent.\n",
    "        \"\"\"\n",
    "\n",
    "        # TODO: implement Q-table update\n",
    "        if state not in [5, 7, 11, 12]:\n",
    "            self.q_table[state, action] = self.q_table[state, action] + \\\n",
    "                                          self.alpha * (reward + self.gamma * np.max(self.q_table[next_state]) - self.q_table[state, action])\n",
    "\n",
    "        # epsilon decay\n",
    "        self.epsilon = self.epsilon - self.eps_decay if self.epsilon > self.eps_end else self.eps_end"
   ]
  },
  {
   "cell_type": "code",
   "execution_count": 148,
   "metadata": {
    "id": "Yu6JTgoxjGVV",
    "pycharm": {
     "name": "#%%\n"
    }
   },
   "outputs": [],
   "source": [
    "def train(env, agent, n_episodes=100000):\n",
    "    \"\"\"\n",
    "        trains an agent through interactions with the environemnt using Q-learning.\n",
    "\n",
    "        Args:\n",
    "            env (gym.Env): the gym environment.\n",
    "            agent (QAgent): the Q-learning agent.\n",
    "            n_episodes (int): number of training episodes.\n",
    "    \"\"\"\n",
    "\n",
    "    for i in range(n_episodes):\n",
    "        # TODO: implement the training loop for Q-learning\n",
    "        done = False\n",
    "        state = env.reset()[0]\n",
    "        # Until the agent reaches the goal, keep training it\n",
    "        while not done:\n",
    "            # Choose the action with the highest value in the current state\n",
    "            action = agent.choose_action(state)\n",
    "            # Implement this action and move the agent in the desired direction\n",
    "            next_state, reward, done, _, _ = env.step(action)\n",
    "            agent.learn(state, action, reward, next_state)\n",
    "            # Update our current state\n",
    "            state = next_state\n",
    "        ..."
   ]
  },
  {
   "cell_type": "code",
   "execution_count": 149,
   "metadata": {
    "id": "qYkxdMG8jGVV",
    "pycharm": {
     "name": "#%%\n"
    }
   },
   "outputs": [],
   "source": [
    "env = gym.make(\"FrozenLake-v1\", map_name=\"4x4\", is_slippery=False)\n",
    "agent = QAgent(num_states=16, num_actions=4, epsilon=1.0, alpha=1e-3)"
   ]
  },
  {
   "cell_type": "code",
   "execution_count": 150,
   "metadata": {
    "id": "oNKuBVCXjGVW",
    "pycharm": {
     "name": "#%%\n"
    }
   },
   "outputs": [],
   "source": [
    "train(env, agent)"
   ]
  },
  {
   "cell_type": "code",
   "execution_count": 151,
   "metadata": {
    "id": "1zmjmo3njGVW",
    "pycharm": {
     "name": "#%%\n"
    }
   },
   "outputs": [
    {
     "name": "stdout",
     "output_type": "stream",
     "text": [
      "[1 2 1 0 1 0 1 0 2 2 1 0 0 2 2 0]\n"
     ]
    },
    {
     "data": {
      "text/plain": [
       "array([[0.45222483, 0.59049   , 0.22271957, 0.45809321],\n",
       "       [0.12258303, 0.        , 0.37222134, 0.0451762 ],\n",
       "       [0.05046586, 0.57570215, 0.0123092 , 0.08970193],\n",
       "       [0.08179374, 0.        , 0.00179283, 0.00221212],\n",
       "       [0.50562037, 0.6561    , 0.        , 0.43798027],\n",
       "       [0.        , 0.        , 0.        , 0.        ],\n",
       "       [0.        , 0.78064802, 0.        , 0.10827573],\n",
       "       [0.        , 0.        , 0.        , 0.        ],\n",
       "       [0.55518441, 0.        , 0.729     , 0.47961039],\n",
       "       [0.52704668, 0.60538196, 0.81      , 0.        ],\n",
       "       [0.59457954, 0.9       , 0.        , 0.51456359],\n",
       "       [0.        , 0.        , 0.        , 0.        ],\n",
       "       [0.        , 0.        , 0.        , 0.        ],\n",
       "       [0.        , 0.21237296, 0.86935923, 0.22107769],\n",
       "       [0.58865008, 0.79640706, 1.        , 0.67611839],\n",
       "       [0.        , 0.        , 0.        , 0.        ]])"
      ]
     },
     "execution_count": 151,
     "metadata": {},
     "output_type": "execute_result"
    }
   ],
   "source": [
    "# TODO: obtain the policy by a simple argmax on agent's Q-table\n",
    "policy = np.argmax(agent.q_table, axis=1)\n",
    "print(policy)\n",
    "agent.q_table"
   ]
  },
  {
   "cell_type": "code",
   "execution_count": 152,
   "metadata": {
    "colab": {
     "base_uri": "https://localhost:8080/",
     "height": 643
    },
    "id": "xCzsEQFjjGVW",
    "outputId": "e853db10-4f20-40a3-c89c-734cc4c4a2eb",
    "pycharm": {
     "name": "#%%\n"
    }
   },
   "outputs": [
    {
     "name": "stdout",
     "output_type": "stream",
     "text": [
      "action: 1, state: 4, reward: 0.0, done: False, truncated: False, info: {'prob': 1.0}\n",
      "action: 1, state: 8, reward: 0.0, done: False, truncated: False, info: {'prob': 1.0}\n",
      "action: 2, state: 9, reward: 0.0, done: False, truncated: False, info: {'prob': 1.0}\n",
      "action: 2, state: 10, reward: 0.0, done: False, truncated: False, info: {'prob': 1.0}\n",
      "action: 1, state: 14, reward: 0.0, done: False, truncated: False, info: {'prob': 1.0}\n",
      "action: 2, state: 15, reward: 1.0, done: True, truncated: False, info: {'prob': 1.0}\n",
      "total reward: 1.0\n"
     ]
    },
    {
     "data": {
      "text/html": [
       "<video width=500 controls><source src=\"data:video/mp4;base64,AAAAIGZ0eXBpc29tAAACAGlzb21pc28yYXZjMW1wNDEAAAAIZnJlZQAAVWhtZGF0AAACnwYF//+b3EXpvebZSLeWLNgg2SPu73gyNjQgLSBjb3JlIDE1OSAtIEguMjY0L01QRUctNCBBVkMgY29kZWMgLSBDb3B5bGVmdCAyMDAzLTIwMTkgLSBodHRwOi8vd3d3LnZpZGVvbGFuLm9yZy94MjY0Lmh0bWwgLSBvcHRpb25zOiBjYWJhYz0xIHJlZj0zIGRlYmxvY2s9MTowOjAgYW5hbHlzZT0weDM6MHgxMTMgbWU9aGV4IHN1Ym1lPTcgcHN5PTEgcHN5X3JkPTEuMDA6MC4wMCBtaXhlZF9yZWY9MSBtZV9yYW5nZT0xNiBjaHJvbWFfbWU9MSB0cmVsbGlzPTEgOHg4ZGN0PTEgY3FtPTAgZGVhZHpvbmU9MjEsMTEgZmFzdF9wc2tpcD0xIGNocm9tYV9xcF9vZmZzZXQ9LTIgdGhyZWFkcz04IGxvb2thaGVhZF90aHJlYWRzPTEgc2xpY2VkX3RocmVhZHM9MCBucj0wIGRlY2ltYXRlPTEgaW50ZXJsYWNlZD0wIGJsdXJheV9jb21wYXQ9MCBjb25zdHJhaW5lZF9pbnRyYT0wIGJmcmFtZXM9MyBiX3B5cmFtaWQ9MiBiX2FkYXB0PTEgYl9iaWFzPTAgZGlyZWN0PTEgd2VpZ2h0Yj0xIG9wZW5fZ29wPTAgd2VpZ2h0cD0yIGtleWludD0yNTAga2V5aW50X21pbj01IHNjZW5lY3V0PTQwIGludHJhX3JlZnJlc2g9MCByY19sb29rYWhlYWQ9NDAgcmM9Y3JmIG1idHJlZT0xIGNyZj0yMy4wIHFjb21wPTAuNjAgcXBtaW49MCBxcG1heD02OSBxcHN0ZXA9NCBpcF9yYXRpbz0xLjQwIGFxPTE6MS4wMACAAABINGWIhABPdtR/6CW5jwL2WjD0zdF/J7ugOI/0/ISzDSN2XmMqZqG0ulaUW4WifR7IxuWQV1Qr0BfJFyeP9fhbuzeCIKSsjJIxGfOp53mB2d7VIN4HWQ+2hD1PwXkfk0LOvp0w53bLOfjniuwoEYiC8rqaqA6AmbI4kuyfqwJNhfUluPVasm2XEin62ppYMqukkl/Tq4pi2jPqzZfAMEus+XbOCdsaAKywHGLYkKiNg3w1u/Lhvg45hQTbLEyyZuTpbYAoIAEj4iVJgOJVgheIyPY+liDHj6+0CohSdJeyEKRR/9O1r2KrDan/db1OFk/u+o+N1JBsE+JBL5DvAgqJQ8tkuEvuatf8psjwSyo4JlCHWQqEzwb98ooj93hHggzrD/zT+j7zB9plig5Mpy/AC3Oktn21xUAOab2FdbrWjet860hZSj3XWHiwrE/dxzt/P1H34J4roHPC6Myc4xjkmz/sO8+ggDNl5xW4nqri/WQilsbRS/fBz/5b5n5Cznfzi1umDu0hGvBidr0u0g80tsaNTZX/zBvQmAz0BAqDykiPK0L8lbsERQaczkpRYn6394/O+ZIMN9JTq+s2gxHRezcFoaxrIiewpMWIIRTcYVojMpZskddZbd6IRmuiveFxENdST9ApRKL0zTvl+CkOjMWAj69DQyB+OzuD16KPgdfpTHXW/SmYi6Iuc42JQpWiT8dLCorK8k5MPcGLJhA/nyKEEX6HfOP95ivUTrTEUvw5TpnHwTWB+3mtvT+Mvk7mqtR7ZlyMU5FKieekkvfjMtPNjNcNagVTqyZ7u90unw4jUgD/SPAG1W2iVetGn4cT6IUrr78mT2t51z1RqsvUqCnate1IOQzVNyrxHI1uoDrJVOVCc5kMRq1fJjmQbBpotjx1iyelmIG9Og+EGlOguAJTdfmOptjl/1RLyGpeEDJK3tYyuQIPjHcUlfPoOZPIhbX/tlyL1IIE8Fr+twOJTIpE0Lpj1Q+emZ9e+0etOm30an51FGfk8NGCDZOCSkP2ZYycq0Rig6FE1Cm1AZYNX4R6PGBT1C+Nq1iG0d2O5VNjvRJMiCJPzZtE7Ol1M44SJTp/HaWz0MHEeMWlT1aYZbLq9LunHTUFq4s6xd2vVZ0txHfVjjTV2o8cBnNrKVMTWCPtjIJUXFg3wy9gy3s7i1a02aLuBB2ZQCU/+nUhWLCgf4Bw/DmXNYVhy9sXp6YHA+WY8JUPb9QDc0V0b5NQoYhk5GTSaifvkOp9xHU+Ox7sDJqfSAfLU8FZ39piMyp52/EZ1Gne1r1/Ae1h7aXcNIffy/pIfUIYWqAEjSi2DET/zwxFwR5P5bqs8RnM7NJs1n6kh0cBAXleRSPaEmUYtlXXwnW7gyeXadarMWj9VOBUiwVu3BLcwwnQig/YiNk+0NHWjlMJ/kYrO/bMiNK/35kHDDLabkDzb4VNVvu1cjYtXPNaWylZ1s1HQpZ12ah9inHE3hKBg1GHO85DjK1W8duVO05e5WsmVdCGqrjaUFifTG37biAu6fZmDAsB39nguaUjdDG8OTgpNNegZGi3SNlQ0SNS8WWdPR+Yib6jZgx6Qr3jPXHbHfXu/JH0xH6scxV5XJlAMnf1xuxu2C9ZHWEyF1R2B8RkWCdi7dLEZnJhhGWiuJY+LeG4SjsY69LPrTCRUgK3g6KGYtEyruPr1e/i+c5SE4XjvvIvaejA01ATHvctCQzXagYl8kTzEEviAi0WbUGqyqSDxVyOz5KlcwTnIZi2H8bVd1ffctuyRm+6I/j/S/ebrG2PnaT2IgxXKbMkT0hylj0HwcJRj12fwpnncgpCV8YZ4o/3f7WpdZMA/Iw2qyUe5YiNehw1r6CrLQhFChZt9HyCCN8O4ODL9cwxDKiUXkV3Nr3qOSwzTF6krDoMBXXNQVCPssioQiIDrIEbaMdxYwgI+qQ1JygdznweG3skuvL4FyBqLVH26yWOln5ekw26IGLzpptKGmB54L526/P9nnxe2V08+0cfMVv94v482RJVb7RAWsapxQlZXHVZrW7unpTCgv/vBmWtlNdwcYqWltyZWBCkwP8cG+8LCZITDzsjE8MqXIwCjEt2ErCkLhORZNos0ETAeUGgBMMFj9SlKXAWAWPVhjaStnMMOpp3Rssnf8gkehsbVDtnsn75S35yaTBSqSjlEch/g83XsfIkzeenhKNlZ2i5hrH82XBOxxvoRM7dIQ/MG3//8/Y+zs2WXBBoeZJgBWA7TmUJFMaWjXUaPpBT+mdJ+2YULf4PHjYJazcj8hZKOcrZS3YFGqOfNROU1hcXpDSnKUunMzgGw/gI5IgVWwG/Sh2KXoCeBrB/BhLFcUWEHpx89gr1oC6BnAUmSyCVJWlW9bsnrYgQD2sf9JamVqthCpl4vDvJh9NKc+DTB00bRVrV2jOjXgJ5ABPJ4YJ5lniVFsq1lGtuseka78vWg9rDwMI44BM9MzuXfXQXbZOXCRoGu6IMtkz0/1M7vUtqrZQvONJRl8oVLlGAux5AR4dKFsHoDY6jEGhYrSD59pRAtEPEyqb2UjlbnqLwUyXfY+GKu72pqATJNdZo7HRBhF6c0yYorMhVbULJCPQ9duarcLhl1D0s5AtJ+QAwns19VkydrdhSLwaR5kiCPwTBvI0LJoGtj/uSkS1txqMz5GhZvhe+0QwppbGKsgnBjN35YkQjG0BhBVwWOB5kTAmd0jQXRiWIdHZF63B4QP6HGPPLRmVBRXCKRLscLZyg71rKuwUjwR9d+JzmJyRfj9RLQDKT5vo+kTIkMl7z7z/wG3ykBRyJK4iWbmozPx3kf8C33+/0ETGhpUUtshGPDpTQWXccNFlSYab323ZWYGfxmWGeVFFE7yQ0QNKsIx9FrJvCWte5jRyHEWg93+7H+oTj4u79UEQFB/nqsdKOI+q3xb6IBg7cV6eKM1JFNLZxxtXJ7C/CTa+mgZKYdnjgOzRLF01JTdAkQ6jOfEloFsMvot1cm4so/M2NKnMJ86h8p1D7g5P0py/h/inAzFzQMRuX8EXDGBcX7jn/gRQfqnc6poy+EaoM6VqsehYwvd3cS20+OQyjDNc76MxPJopQ65yuMi6Vppy9L+xhKYixnKZS/HE5rV08Ev/X+hpskBBpExkLnVfRmdhh38+umqemtdRzPV4Xss/RnPzG+BaW1qTLuW0KYuhaE4s2gCLURJiqRvYyMifTPE96h7JIHr88JrTQghwDAZe3Cw9TpK+efmJeztDFZbaAlmxV9hzMIt+6fUpqFw3299I3TjeqIFy85ooOjycje0Jti04Kp4h5mFkKeU56Ln3G11omfNptZ19QKlp3PqPlW8b8YH5eJ/wv8TmVue1BZ7OL9EA/a+9IEKaNOoSmKidIPP//HBeLmSXRgqpo+rEbvMXHuJviO2jWRTP4IcJ6As+8wfS8y00aQvokT+6n2OE/Cnm6fUr520i8Tddii3zzFExF7B8PjJ3x0UHzJFCnfu8Fxy3bZ4EdqOA5MZNDPHUA/bEc2eCmtjCxrtPgvBWvVZSIbjzqJgQ5fUmvOUziTUUwQe4W91SjN67RkIEuuk6fITM5qJsoKEw/k3YvqpcdE2HJWE4itjYkBtzU3Wrb+V2TAeZPJ/oHvb9vPGfLqUMPZxyCno+ILwAsO/Y0iRIn+UuyY305/W/nxVnZeOyTcysUh1qTSnpS4fv90g/Zcx3FpD08dNs0XgOTwHX/pOevx5TfwVMzQ2RmpslLIEd8dunN189duPSiUgTIAVduaB+wJ7sGP2H50+4eUM844JMXsTiEa+X66BuUzJCx4+y0fOGUN7HznnqyWe6ug3fy9s6yQCqp648bUOLq0VEnzfUtVC2FuxMZQ9TVzq1Fv740OurCxGLtS5TcwjXDlxpocAshA6rWnogeb7C7PUwgDXam8RWnHo2h1GX3J2IQkxO2+Twe44xpDFr/1zuGfJh+bqR4Mk4wqXLpHR8VR//a6Y3fQCUwQiW0DVZdCFgv7m3GYJkcH11ZQqOQjbKX798DhM6BrebFoDAEzadc2+baFKVz1VImKKR9QvW995hEidKxe+fy++5MQR1N+55DGqkoN2frJCV76aL15kjVh8diEC+36CK1dJVLTDRHCPut9SRaGZruYFDEn9qJrhxrlL17za0uSlVKFp61CxqnCoz9hyB9TdzZX2PfgduP5zG62BypP7bHQDrN2+ipKzFdLMKFJyB9PedMAIAq5UMR0YeWubH4uQfvq0O0YdSbUhtGd6DwFEJqde9m+7ea0Ck7HXOqx2m53uhUvjM7BlMo/M7SifXmIqFfZGrtKgY++f+vk7Ypp3SNHYoZe+lWLp99jEJxVaKcZiEZZ96+QE3Y/5UB/y2vgG/FpUyiBAIX0BJDqjRK+Dq4WW81jQ2h5NcTITYmx6KGlvXprdONRCUHu/b+xFE2b2kIOtfvutxei2z/++UqA9JO4+WS47cgUDjy5MqNMLDo6KPhBzUGS0GrM+wPTg4gsStWhn7C0oau+/G7UfmSVDsllAtl7U+Bbnu8ybVBgnkMAKxg/b+4PibGl2j/HhXcNdiAtfOcFqcjftqnmp7m5E/7HjI7Y1Q4SsWphq4Y9BiGoWij7/efeBMHv7EKKYptlUBujia1bNNV3tuAdxR78d7YbplCQ/IRIdi5oUsQXiKYu+4OIXHrM/1iT6xHTkO6/u5/S6zuJN3NPzeXdseN2AtDknciqeArYh5x0JCqQy5Qj7Km3A1fa6WkPtaaWD0Ovj1QVvZKULbT/5pJ7WgzGAAGC5ay5u6xBxhaIQ6Qd1e+K1Qqs/EQ5B3vlPYpfRR8bS82otSFkrJn8mbABg3SsxjHwq6/f5fyTgrAj5pNBGs+Fy+e/48lkCBe1vNiKhFwgFnsBn1sv4cQE03tzIOutklMBumbTBvtF+bLXGxYD42xudd/uzvYG1jEuY9mTTI9V66xL557i4mEj0zDHRpK71Zj898sYcJsoy/q+I+DBj/k+5MGg3etuFOcgOdVMGI/E18lpyakq0nUZWmVacQ1ZdUr0hJ2F/zXoc3pUQ/rrryb58bcfkht5neJb2d+4I+gwRqtvY5hTFwUtJfZn2mf3RPYJdlXasT/qSsGsLlHceMmyyVv1cOSMq3mquTNqMXpUGIKTKwU2EcpcyV3RQIhttNTfE1G3TJfyV9Vh7o3JkJuKAoJu2e44CGTVkun1WGARDK5eyJJ9JmDBU4egozKo9PdoI9MNLXhq/qJ68uGXZTygLqZEJd/uukZpznTltRrM7YS9lQJi4tJ39etIhuYE4705cdfXHfotWhrc3ZzLk+BdXNiLPQbOV/vokOeKrUs5exGtSjEduxe1+bex7Zzi2SI5TDrZjQPC7NyhFsaeFSH55SPJPyrPbbKmatZJw1nzu6FMosk/0xZBM8ajhtVpLjTfshUdeUQeux69uMGQsPjVwq8E4lxKj8OkNMk+enSG+W1bh/H8XepSpdFsmy4FE72PEAD23SaGFzExAbW68cSCweVOUJ8FWEG0TA7EzEo0woyHpapHNur7KdtqDuDarHB8PW90IVgZkRhWd7DiEgmgzLSCq7y097WNiP+X3V3AB6o9ZpIl3ludYurpCravdJieW4VkbRdbbJogyvPjr1KOo8rt86yZZYPd44tNYhzJiUq3kOZ+OrZy8mb/9dKAqJAcGMo4eTww6y4zE4+nty8RbFOWEsDJLeRkm0vhYHEW7R8gh00UzuliLHsgZOuI9mDSEf70rBvvjfPgkLxIp+E53cYnnG7Xd6ba4I2jeyGUvM9DqFTHVApnwlIMSm+W0pd3GKskZpVenRXSvfcT1iMuaZCbkJTh8B+3e3lN7/gqEfdVUy3kQhGReUk/DZr1HaO1K/+exQQrfexA8uo45lQFcA9uenj+Y3zU6zFoUB1k6j3PvsWtfaLQTquXi+eT4lhjmSVQ0DGBliteXM5j9u4iXZ7GQSLcMtU1d60oWJCVkaJoWafWew7itwWTtoA217X/60RvRnViFW34QTHFaJvit/1dFeC4v6UjlvgvRCcPBRwpraaiyQpYUJLIcO6TZMBUwlcQyVdUmXrFFu9XgNDLh4MiVYfv+BWhyFMa3weP+R36CkR/2XbxjXx+mKBkKVPGyRSfPMLv/jw+bsrgtQ5pamyF+QrrAgk0ql+KUWjfK6iUkxq9Thyl0l4Hri1vE84VMjomq8GiPJCOQ3lGbvL95oCbYA6SA2CHKsRWgyDycijWuoUFu4iJbrrD5S723TXUSmldFUhHG4UjvdxI4BzgK+FtzQdN9hJQTRxFa0453I7l7OYlgt+P4yD6+CPjJnuSqDX1sW15qs3f1JgWUdYUAwEAW8YxLruaecnlW6AyKO+uTuzaOmSWseKYwCacdVxH9MJEufZbVE+Vkrw3osHPcsGHZCePZi4XXmureRCI/BT9S+gQccFWmi2meioG1/v6iOB/fsHEDTRvcOXDpUHZkmkZyQ3swJ3W+jHhtdhxaX/oGojpiZoqyFuF9u8gZsyEBLEzYNzl9ypZtX+tmv3HPBYIUirPMaUrzDVEtp6q4i0MB+fZC5PxpTvgxJ1ej/5XUlWI5D3KPl7sbKJQgBV7OuAE4eMkeezFkD5yCPZbMhDfBKnTyY8S2lugMezBQlC8BJhcbcbzQYhgwlcNGgymNolSkQ12JWBDoY88IePdwyShHDGfKajjT3NrkKbppy3y9j+iBpiAoVsutokn/BZZ1BquxqYw7N8OHvmhgs/uvuMV56OK5nMU+id8MW+hgaoUE1UlKMWQ/DeXN0s+gZ54NLFT2ySsdWT3Dv//j4CD53eS54hdigE/PtN/G3MNUO3+6DGG5wzeI0XnoXb/0YoQcUC48CmoAc2EA/98kjfPucrl/sXkPq4NR+/awC6BeMRYChzYh0LCXu1MbAGTX/AiF/PqA9G6AD5ofVxJcqWo3h8V0sBnq1gsvjUcnXtqWoXv6rhPiuRPjCgLO1txjGocB6EtgK5yGEj62udEg6ciuk0aLT59cMQz1aRyiK5BtBNCZTkDAkX7ETQexRSo+Ff9IqfSa4sh31lCEJSgqWluphzxzFK2PgiHar95e5qqcWD3TzX8IVSv9pXajjkOpeNSRLQ0IkJ2+IRrhPnCk40JoGBT4DSORxdtgSKXv3Ktw3515IScNtSj2CZCt9yG+gOiVsptOKZWZlhGugZfcuftTzNmNLwpvt8Z+oaWwH1DoSX6KRy9tEG98y7HI/ZIyhVx/ivay+LCaXJXp3jxc2InQ7jYQMNh1pa77Jxv+V2uY63DrDCYyGzcyQ4a5pPhQU0owJmp9oJt5tDRbXQucHYgI7osiIV6cL/X6TXSl/6yge8uA1UFhLbn5kRlAYgDhJePE4Ak4LgQd+2ANSbn1b2GlTtlLSKto2d17Dcjj5ES9H4pfQssoexgBQJpNqu6jrb2U7jVlaEZiB2emlDFTq2LMIVA03YAeivuhK8IoWrVYCimknVd2SVN20WRMiiqQwSdkd24wYII2SSbBGSyhY4mtq22SC/5ZJvqwbAUrfog/F1Sk5T2ISwaJLYhnW6FVt/9NarX5gXchZMbQlMCQpZQWNh77uAOwC6pQ9IBA4pzYS70ursAJBmT2SW+hGztmpLVakOKkRpnWNwAo9lmAod+MO+PaTP80LLr3iwffFvQkCd2v+CNFyInr0lNwfe2gHALz9mwMNhBW2Pvm39Js6gGdeKmKMUuIEVW+6+uiW2nrQTwt66Q46peoGHoe3jFGyMX5QdlTaCsmA0d+7JxJ57u1jHUM92sV80jBZSKLCJfrUh04BZ4d5kKrpTsD7MFe/oClNt15Rc5fbjJ84tdupFUrfLa4kPXpyPvpALMzMPl7+hYKlHyQVljauIFqQUzk7+UAMdCwAWmsPfyfbNUwcR9KSxUDrVzJ0rFaDm/bizo9pfJwZ8Qsjc62DZkqm1mspA9DJfGfMeD/SGgG+NmYZLhe80I9NBLEbO82yu5aBxxkSkJvAwm8n4Co2v0CsD9sxf5DD5uWdm4awv09u7bx26Mc8Kqb/1u4BOeFOiWYFuDfybgjig3IRh2VvP5S6GfC1hEEM8iVbdoF15Xrq2AJhBpx9YnJrGVwmu+9xURrEbgDPmYWvoXe+iTwUBIv+MIUBZ8B2Mf0jTafMqaDh0D0Gx9Fc/swlQZg64jmpdDlO/jW+umUE1Rg8b4S8ApZ1pRT7aKxihPNwTkWpZkRiSK1BOUfiRHU4493AIzydMTDnNRESlEkDcXKDhbODKzc4RA+ILIa6ZxBC/338HVP/O3m1FUeogpKfuSYRQcG7MmWH4SAagEAH+lDTOmR3CGdfiYnCTF7u2y6BIcqhkcC6hsovpQmN814Bc8kw+Ea7rg0LcJAabPd08wAa5xMyFAX+BsQCS9zfV4nG0W0pR6c7GxNsCT65CAftnyteSP6qIftEUKJlpB5jpkuErlU6cRkOdJCWEFjx1pXkccFMcz0BgzKjqp7Hf+xZhZL+rcx69xovWRHYHDxKDjD3SsaOxV6q848kR9OwkgV6NJPL7dviP91x8g9w4pjV4G7VCh8tPBpH7eQMV85eMvWFrkNdvlhtfd47F9IV6EunPCS3KRQFglN5kn9sdbgv90eaHGaOTyPCVjWSJA7+oxXpDmTOgiHvJuIrF+nUCV4wILMUvWMqt+icS2kgVkHymMa8amdiqIacQ9fvvQyOWW3FVeYa0VOgnjzYZArM/gDUaE5dMTpNp/BcW4CAXzpHWSxzD7tImLEAM095OVAQFFqpK3j3cTBn2Mcm+YYu1bOpTi0g/MCPcEG3eFTbwM5HF6AIlxmHyGEAJC2p5TNCbAoxErFg03S8gAhp0fYdaCIs90XSQV9jpQq3R5DsNPhh+wc8ryv89Yc/7jhhJYNdlik073PyMlD7Y7JZIzOX7DtnuzS65BW8ttrlIgV7AZooKX19VwQzSX5I1Nbf3Rps0uZbFn2Tc3ktm7Ml59nbMHK4nEda4MRBS4vDEZfFf4PEFRAKKA8xIqWC02EZBM3UzfCtSKZoLVNvNablgUb8mFmfIXmHoea1lhhR+tiW5bP3O8h/JP43XOni8jIv9pgAMn8kknAAFdvznhURt3pFWsN+lJvuO09wSG0ElXtlaNvmpyolN5eYFI5ixIxxxDHqZ+UeZ0N6mSsV6NurOQD1RQyz3CABH9gBcmlywn5Al8HmKPgrR/620QcG/f6CQhoO86j21Mm7X/sMOXBQCceIr/aITwMGGPxLaTIPl4+GXrdUrzGyQr5VTRwO0N5kqr6PnDpf1GC1S6V8CMOBUuD5LYldZcXg5ZWqYC7mbL2AXJNpRZM1nr+GJyMUWKlFhbMuT2pUSHSHvgckJG1ARz66dFEf3Qg4EHIQqzHS4lYbcW7m53ioFhlEqXh9DUeCIj3ZYeWAEN6s0TbE5xmG+aBTUX1Sq6fNHJBHh/i3yLjoAbzqubSK8O4pmjXWOMpFUB0FFoo2VNIk91fXfGo907IAD1jnagAXqAGEeNUDCh060/PhzM+mAGz4R4QsWgGobM9RBBqEzxM7r5Gr0WiGshBI+Cg9KAJvGKt8I/fK83WhS4DGbo6ImMuIVkprPe7l0yVAkNjl5sX0cTuZbrR4z/qSJBpfiRhQdgLcxzrVgV+GnHziqBPlPMPTspDak3TjzZppT1q/TQ3HBYJvN4AkJUZz58fc/RhL+ZPUXIMS8lp3/0+3f0DywHzGm+ZL+gn02VaXgAL3Cc3y2lQAUb0B3axbC34ZhJWJnRUSx7KLz65LZbLHnJdivXbR7fmV+V6/RoK9v+WZhpxeSBQp2LPZNwTx2CSOH6DXNT3v9DRiiNvZ+VaDyska40S4zdMYUHKKaotPPXk1fqmVy3EjNfhirpSQ5toIn9bL2SKWeluCVohcBprt5zN2kzgagMG1czOZfkx8MzYzm0s6uOQaP8tSPAmZHLFUonMoAwGQnreZzCpNdnVvukP938RSC0ExUYtpM7uQI9cZ61nJClOdwmtdY4KTsrMdxomgSJ7Kge0lcvtDUwRBptFFz7t/d1gfDjez3uNBgCWTAJ6ht+EDKsD5MzB12dQtusL2BoqOoQq3XdDxTOmGNzyalDwr/yj/IPUYmvTG+isv8g1YltRO4t8sZq+BEgHAwN3/Q8xhnCT7oImqDJgw2BK+lPKNyPYxC6aSMAm6nvhgzVM0MGY0YSwnFN9gFmA/xjRFUdJYNP7uJ2BNEkkNqua9s17SNlAbnkPOdiaW/KRwgYM1BY6XErDbi3dAaobho5nSGjYilRW6/d/SMXi3IiIvDhBxkP82C+AyiVWq5QzcSQSDKklHi7cROGgq662bt+eiea0PPLI7vkok7Fqj0nVXM9Wbg8w/SR4wAdG+5EUwDjhg851S+jdkb+P3MrQ4tAemqGzN58WKBFp0YbiDr9fJAUrlUBsvOrN/oyDpKiKl08ydj+hAu1efeHNQDxaqLtC290y0z2umSnKlzkbPwFdv1DdDq4oKJM020vqvtAkdFeTI7uqIlV+9XF+Jn/9gZ1vanpVzTS2LlQTottYyCK0UP+VIOO5zGH9ZUP6a9C1TxUGPdnCCXJLC+FUuuuaET6YKzEXZP9mEcv+ySxQS9ZrWlvhxJAqvm9rhrFNJjWxQZEs+EnJ3XFnUTG8yHz0Byhie3gmNK6mmDjlY2br1ptx9en/mOocpvrsXR1lLY1ZKf7y1zqYLdjlhCvYTTcU7mJEZNfeJJsEUjubQIeDM2YCRXjhjsY/M+EUpzyzqg1+oDoCES2/KCv8vPyLbDbDg2K6ehrgcKXuq8s2K5O1GK+iNA/nSmH+8oUQsSrnI8vRPRLcEMktcQojZRvbEKUP5zffVvQl+QrJkiQ3j9hoVJJlSLAtI196Av6LQJPlw4gt1BRxqusmT5lCam+Va+Hnc6ALoiTaxoWAkm7CGQdEgb0Pqumai+g6bgxa3s0ebDF3Pm6u3hID4g7lBb6ke/mUKWKXTtX81SXZLDwvUz9ceReNS2i6RhO4dXY6hs55h7H9uBsPBOOo5EYFuIOHsgJuO0uZ6L8MDMsYA6IRYonwnPJfurPy66nAiwnQ1DN6VJuKg2dDAtyFJ13yi4mJVE/7RMGlXV3rwG99jXjokQ7QlJA2QWdeoJ1drmIz1Xn/5viSxG2nv/ANDNbo8GWX73AmxqtLpwJkeYOCy4vQY/XugGNJ8GDWptYZ7BeeMka3zTp51TJcb1QA9XiFNE37i6HR28/oXrOqucC9TNTI//VdxIsS5yHQTrt5nAhnyFCCAFIZSQIu75xOvSA/j5v48u6vda1M88a+xX5aewYizw582iM4OKEkQRe9cAE/zEoCZupVpa7vN0ThxYJDGkS2TbGPDFxVstUlT/nQ/jdiqZFEgEnSPQIZ5JDbFnFsazTqeQXy1nP/Xy6HAqvFBiNlHK2pfsXwpEKQ6flcKnLX46kOMKTAvQuy7NHGnF6EqLHcoWOBeus2uLdMwsdoh9yErbc1WcRW5GA5iZ0edmgRBL6EEfznU9B4CBYtT5Auu2GzRfT354mykEe3r2SkfrTzYc9wFW1JX5iUaxeNjjHvYylzNn/ep1U+A4vyrpBaqIXsnzxATPHvlHEfdL0Ht2fpRiDAHAL0NbYDXUaDXF/VRkzex9yq4ZI7iVW9FwMuGCiUBQ0fTzG7H4Z2/XdG7KD0Q0o+QTCS1oh6V/6vRmZ+2VapvyvJxpQ75xvDRi9QPUxrRPAopSu4i3gbx2+9huyRyiAeHFL6VGcU5gLiJHRKuotynDPAm0ZBNTfYKXBs+yVGmDn4cshxaMrjRpvOjYessSoX/dPsb8wxx/sC6D/TagOWczIQTjzevp3wRoWhpuyA0rlqPewViTfs/Z1zgF+ARr2jKVmRcVZnRw5wuwHy3pjoCFj77N+Sp7IweC/KyLlwaLSt6JtjlxU9Yi53DeNZUxAPhVIk3D8T0kHxbzH5UKcVP8ipHmzvCBdgYLYkMHhKb2nWbAK5Gb2t/EVPcEaLOvVE2Qg1Ii2wSOZ58Hfoeln+f1XNbo9dFwsKK7Hf/Yy0cBJELUUw4b5RzkaEY/A0x6qOpCowOBBaS0PrCgWsEfVjqf1QAgypXkjbLCZr6BcHKAIdc+QtvlJiQ8MTBD1otYRzVxGKzMO2NxCAN79uQovNWa+Xk4mPkAhgvV0bHmZIn9WKYjOJKQXQf9BUXcCN9M5qoH38AaZk5EUDUy6WAb+DAkRAkZ6cPgSMAeR+gxONjPnQ/rutnp91o/EDnoEM8khO4u4v4hWHbowMAEIiVHPdjwJaRz58BXqVo96kOT2GgwwZ8lVooYYYEp9iRQGBSJWVjdDHwiE6z6ru52A+uqC5e4LhYE/SWFzEirZzDE2IYJDCmkYlwQjK1hf05NdtKWLpYFCDVy8M3RoAzTVrBHY0f/8fLH9DeOdWU6EaL9YcJ0U+F5wzfaZYyDYIDYzasV8zj2esvbF6akbOx8b6nE9/+g4JGG9gmQkmsenzHo5hRh610pH1zKp/TuH1YssKVdJYew9Mw5gP1MxyV3D0OQPvJRxhMmEJJuoERdCRdhQR5Cp5Y5TRzlktLHAK4Jcvi+mbmMjmACKrtkbqZrGnOEZjXL1Nw73uEgwdWT5p9d3VzebIdATdiVoursFW4z2EgKgAeOprCk48lvTg4d3m3/yhURHpeAWEQ+zi0bgyLUhz1s/5N+tg6e91c+xH8kFtzGS5SOQLulWviV2wyZiNRQqwIlyG8tL9k0KkZcsMknGkqzzbX9H0CRRx6BNNsDO88P9Ae04d2DwDc+6kkUgbcZ5etSZzkFX26NIQrk88ImvWN6ua3sBJAmWVkxaneQ1knpJb2FZoODZvxnlh1y9w0oV3ZdpONA7gT3iGRppSYKZAjQAsyy7jpjqZn+5Lc8HQXHBF10yBLoqUf31Rx3SoSX4hWhiylKUHj5Sb0A2knera45rz33OtHT+UI7NzsWON1iE3fkShjZugFLE8xCFHUduOKosyMtWxxKtlJ4L4wH4foD/877/wa77NTMW0rVVO3qih0IqHl9t//qTVcZVgdicrzagZiul9i7P4wOfKsOvlr5PtF61jSHjWGHRuot5HKA9UHy3/AnEl/OjlBFUwDf9PbHSHHwM+ts8IspDoEBGl3h5XCJllZMbT+HX2FLo5GDCvdVsp852+EAFcz+2MoEwp595E5qbnhm7hNTidsoPjLweu+b7/7a7BclS8ZjL15i9TKmMaxhxa6jQOVdWa6y1guRELGN2UrfBCDe0qm4oYLFcJFnFmDYTyIl1hnv96q+37FsG8G3vkakNMj1yJCLJSm/eYaOgIX5u6JdIIjQmQX1F+FafIMZIVLRd0rrrqBK/zgMce/xQ5fPivLK48vZsuGUtRQDcz0VCH0V4bfOve9iDOeEgVkAcnJcUyBH3mw4WRM50D0u6LzzxiT8EqJB5o9gcrIirAxr8wbCyOTuJ2sjd9iCDkNpMNzz8KvN2QVqytJC12+AdyUy7Zrv92WD+MUf/nFeNcq/Li535O0AT44xflCpvrkXqcf6Tdwsf/lmLBBXpD/LZTx53bTpzba1ROp/TQ4uR8A1wYYXvYFcDRCTOFLx6UcRjBH6ICryAV3L3NXUKLQmBGp8ZBMXtHaqb+NuYZo1RcEDLe1z4Iy7A3LrC3p4pSYzRHA06eEiALVoKe6aozRr3yYNOh/Q6zCoX8cCFgyuzPag8jSAsQlo4NBFIZi231UgKi/akXvHMChXhjYUG2iVrmeJcCE+it91y8WolFJaJXlQo+aZvG/Qh+f3BJpDYOPa+Puu2wHD1zMjPgGPZzHRgsf3/LqYp68+faQEtMpQaQ/j4yof6+mfwWX6fyY0iOokHEosVROvQqvH4U0Z3m5nXu31DbxxOH6ENo2G6accA+8Lfvb3HHFEQHwGA1z4nu3dmJnMN/4RPiobMJmQdxOfP2/LkGI1A8xJffcS38xP98Yma3DmqZTDiGmkDm7MkM38N4o9BLCLHUcZ+KCFE2OsOWnmZ2r4ARRtVTnWk0vVCQIRZw0zjuvonwrKPO34BJKX8WqVR13VXRtBDvS7EUOYhARSbO6bqy0IVUjAvpxKMTqvnqrLJ0VesO9k7SuBUYagMvjKOijU+p3K8l6JwJEdWqdo8/QLaLnwvPyDfK1s9Se6Cj7qJvI9xjBM+GPA2y7v8ZURKSgQA6rIFcA1rjQxVURriNDF20fuWdsz2Dv1tlMUwtdfHwYBSnLzhk5fof+umKWrOiTjyDEVb2eIITrjIR1/nG2W+8BFXL8EPLqnDTS7aOFysytvPNLUUErZPK13se/9V8WiImv7hcjG14kkoF88/QILOZPPUQL4Xi46vp5J3FmBMZtpOSzbut0hdaY6wad2i9NkysFzV6GTRBI+F77oziidZ5fe3BUnhhbYTh1vzpPYeBYHqX65qAx9J88nDK15xjoh57wMmPvPTAiveUN3uDXPFoEqno1A4FmRiaunLWDkHRxHw7rdo3DFr4be2mkywIjBwsX+jfaWJCN2pgDFFxIprk3Kw85Y4JZox2Z5ADq0wLGF7VNhWEQeMO6gnStUnAXDCXiywztDjRKn9HEByeoUaprNBp3KW7ktL2OKDAGQGRqpiMOL1RSUq6S5EnF1eD7hc11NOMyXCf2KGh6oJaF1s92fnNTO/1dPAW/P7CyQbgbBjqkxW7WcneF48bazPPpGCrm3xv3hU8NwpvljE34dPKCrmEJsX6uflkvZJg2zbC0EzKDKHQtUNn1z5idTZKBDEMbJkZ69hpa45P2fKn3yXKv25utqJjO7zEmquFuRafiTSFArsaYIN8ygWztGwVnrbTgaUApUPaFm7nLssKMjIbpNBN28/HDvp29MhOUdI9VW3zjVVfrI31QSSUY8hj74U3aYXmk/IQ/ACQ4tdzbw8xSfSn1gwh8rzsEJWFiBhsOssbFT6twACCFqmCY6si+PPMzSW4t7CLoSa5fjcO63SLBRFze2URiSCUagNXs6DOpYvN4WnDsV6BTjeljVulmtRYn2XQY2/7xbGdNMY1Zm5Fwpw+4BX/SqPLrnSShjOPRcHTpksLvJOXSJFNz3ry1du0OwpN2mbwqa1F9b6T7KKoNbuWiTeZEa3AJxkchPM1aTgwVCY3iJ9XzVpFiYeMueUL2Kf2icFEOBhE+nuZKqKDx+CUxVjjaW4U2kEUYpd7twn5W86/wPDX0vymMXBFz31RlOIUxTkCwuWW3ExkxGFozCrNmo6Qp82WLJ8bCaEkcycEmXau4Co53A7xUs4bj+qsLAINpvoYHnWPfZvTw4PkbPsY7cpN+VGmlN7DVc+PzyVMMLdIRvNGrk/zHWorf5AYG2kHwf17vAXZ/XGbgPH24F8S9CWyt4u13M6hm6MEowuRnLigajG51Vnvfgd+4taFEWoUsCThHrURjzvi7PTzh8nUqNiT7tv9k26KiPbEFgzaBOrs1zFg/P4insiQOu0fB4XTHw+JJ4XPSShcXjiLhM1Nk/ow6Qtv0/0Ef1q6LRS+HeB+CmyTYgYb3L1ZCSUqLKUAjam40OREdRvZtveoFk5Q5ZOZzyI7/UgE5BIMrCIHAYlMoOOZK4Ov8tTZoabPn5id0BWcxXjCNZBoU3h0Q2eRj6FR5d3uEp+wJGwiQLoiY8mWf9YGfJ9BBKwEwnXXY78KNfDwBm0jqNwFDTqdaSD1JxtT13OYv3UMp/vSeTCzYrM4ccY4waolY2R2U6ea4ae1XJNXbQGICgT2r39WWV+1DufqoCeoumA3yh2J1BABw4yxHTSVS1KcYbBoRSDKRt+YSBGQun3Q9BMJ5j8Lv8lCvX/NctY+e+IlhTVZvp3wpbsfsvQsNOwwozFRdwE2oDG1+vbQLTzeNYm3vXaZh68HtxKTY16crY0FKEaMB7+DUSSfvFTfuEDh4l36xTu35ZVzNN4lwdbEw740QWr4PTAb+qXvvCru/8ivo3my73E6+5E5p0XF9/R+94PALIHiAjlnLXLsSCT1vZ/ksRFomzNhUy2hirjB+sCTPZEJbS5j7U+ssaHPfijYaXFsrcQHBiN0UDvg6fpTXzqJsHqL9eFFItz1b9M0hvO7WlAphhJPq9ooTC2sviNKehAI5dNhml/NS3txStzcvqzlAYcrgixXKwEdRGYZQ5yT+HUfpmVFitwf+yRIm4O2aH3QwgPQRv22cOMPGf+k1hBrx67WAD562dz1XFHuXJjeomuSxxb7JkxZa7VAftqLcNeha0gvGU39RhDal5yhghw0GwlONpLY0sAXHoQLTMTJJ1+DinDh19c2Ea2AwAsVP8/i3U6wt5sYvrQfb4PpKqx24K3F8aD36ggpdt1hkytf2qscfvXhEyi6NqeFD3MZKaUvD6a90M2MLwGDjeCTEwtzQYD7Ixh0fUrCJqJCcNE8ICs46mRCYfp8B/bQ+3OnuFwBqSWC7PSwby2yWgt/WlJchbaEYjbsHljAKoYL/cfQEh6ZyZ7aDagI3SM2lZg+csfFy/pt8sPqVX92dq+pobhVixzTqmwcFLDO92WRyJLW2RsAbUvPHLmxccEocQSmYdEckEE1On9qYqYiNjOm0dWSk8qpq0sBE+lV9lXK9dcJ9O7eHW9ia4pEhGAjkdHRN4Msc9Wz/mOV/F9uWvjntaDQHoti9A/EF0vMItIrGbPe0FFArv01g4nHmyiFp9BLqXJTJ1vXDlTazXU8M0TIQ4w6NtpL+e2uPFo+JnoEFQVURw9iMht5kVtes5Ji/mE6GxUtzPMeW8CiJz9gucuED6DQH10I1G2MRHCWbcWy6tQPHJ5R2KeBBM04iqEkOVmyrAIP2+sKj3ZOKEPpW85LDAPF4DBVYduaSEyz+ssKZmhliZz+CKR6QInU2jEVrKHMbgNuadlE7mzVWvMUP0QBGa6jeoMkdOezDWsHTb+CiiduPr0/uGbxh8AS/1HGnUU/eUP3qeMa2sH5KZLmETyXc8b883Fo1HmIYrTTJd2iMXTppe69U6GSpzseGpHCWNnZi408VmhQSgdOCHm9y9LPztE/7oyp/P1aHtBPFlL1o5e5+lqoQ4yljfyq3YEI2kORlY5e745OAEwkrH3H0HNwXFDNY/AUEhSjxJrw57fzgwQKW5v+jHdHgK1+JVWk3X19wGbLJuVmdVuDeNp4ytTdBIDweeu3NVak5OIFic+SxM+c/U3wgLCDmc69kYaqeek0M4CYh4RZuX7E3BjnONXJUheEoOqZ5DMT9XfCs0XLpiHSj2s0JzTxa7PJqMkgSsnDPNqSMXlf1CHuvN4wVuwBLf96oiCZskIGVUrPfXkD3w9F+wzH/BSSh9uVBm9l5VeazzL3WYvsll+iIovQsuVXDN9Zr4hN66SNFW64GEZlByl2z7KM6SWjaJJXhZuSZuJ0zxUVqhjopx3XSnFke7SzwfqGZZcp/tU5+k0CR3RMSnGXBIy3z5PbFxNg4tWl1U19p8pPmy8/8gVoI816Tk6x0YFmvIYa0D/Kvwx9pUoJ/PuQCsbJWL5yYQLRh703pQ6WTud6/0W9H1EUe2j+9KD0G2IHvOnrLDFgJQbG1jvCGJp/AqPqGCHXtCZTdF/oZmtnUnGpjpm0vVp8lHfG/edvGOFaBIT+8KZpwny+zhCkABI+kX9e0+R9PKJT52hf4fXF3gyFCF+by32+rgnmQ61+PLgrBjrpfkRWF2IQjMPaWMXNAHWne0uXGbsm04nRdJAY6PUJ10PlJCz+p5AuOYZV1+4mTodXBx0Iip2pnaaSS5oJ+XWGgTwbzX8t671h+mA3GdNgulDPgG5UKXc+AcRNHwTNvB3SNRcTFYVneWGv3uIW2HkxzlLbB54f7YThdn+jp7uNfbq8t4jmghGmQ11SgTucux40Y94PlHCPDL/O/R8VliHEa2LlloRihVw6hQQX0erNcuzjrhhsxrIjhazOS9Np76+uO9FOr9arAvARBTIdKhTpK2Gbovo7z4UkJv6pMAklxDx51f16Mhhg2jTPFuBjHy2OUy4+hY2qdzxt16CPyE9kddfA3KlQRgtujNWW96fvsm/l7i3L3Gahnp1KDXAUNBWX9eQgIoGMS3LhYyIEhW3hwpYg+i2LGPAKDJLkhJ7Glm/XMWD/n4K/Oi18rRL5K71fqOluaZsBAxWlWgqe+De6oJag/bXPksoZPC0mvUriOYQ16pUCptFVDcSUiSAZZF+uQFkN4kFcU1YcutKvDzJ7PGb1Nmn6Raxj0M2T5j73gXK55ChzrzhLBjZo2oRBlwXWgmEEplOqvlck6Y5OSbXO3H+wfOh+/iOsVKcgE3Zu1/TyR5ylW0b/uyGbZiS8pl3xV1Rja5fqiZaB8UhfRwCvYt4K+KCU/1/ZXer/ckPg9IBxkIG9Y6Z8M52RQtKbM4hxvh6dtiwRI3l4KUbj3RDDNrZwyNm6QYMjs0G7tIta8a4ORpVJeR9YXsW/aOstfNQJ6q69nXvexDCJxdFbEEMUpMb6avemBG5ogA/mV7ZQzeHm46y4JiTpcBj8r1RdGzYbtNlmSu7ySnh2yGggw3SMEmpaUucGjLUIdVEh14MDiIcqE7Hwyh31GBO2gfILUmXgsCroJ10YPKeRIeYVYt1XpH/mD4OAjhJm6a8An3DKEo+9PS5esNuZJwQ+rt58bDZAdmvPONp1JNq2XBlV44UZwOMl3FQ3/8NekZ6Unxl+Ps1sO8mRNLtR0/jhkqFzAA9kwbF3tJp9bDMLzucGjYzcK56j+mCe3S5ioDyRaYn8suLLKZ+oOmOU9wL1HTvH7bMAju5OGrfXpG+qR9+sbSRPPjxghjD3YGexzTZkI4lRICRQzZY9LWFnvdRuZDpYnVqDJBLjEb8rqp++IajeGsy427GZejXn5TW8ljrEiC9Xj7DkdAyGE7NyJViIPs7k4B/hdeQB/6QcizrseoWXuwFCxXiZVGJnEJeAUGYo85g/neX5p2hntnqI63Qqv+NEkFxJkri3VK58DUyJi8QaR93iG9xInpm3K/HlvZcIS8tlalcGqYa835WiPz50DWhiylKw2f3PEsxZn9Qx7qCgA1tdQJ9aQUmRX8xYsI9ezrk7NBKM97fUKk4WiqaMRMyfp8vIY6JmymsoyDC+JO/nff8ldF482pIECFNZrkQlc/QqgEJGhrUIP0GCCyaH1qr8pe0wdJ8S4z7ZpAN4glO8PRWsaQ8hfIYQDBfMg/3OhWZD4Ud6huJsrhs0aDyr8N/Nch7+OLPKNYkhfOkaNbHeLgS6DQ0JAAawBlKkh8BMTvc35WY8foca50SO/ihto4pWg2x7PYgXYUK72QVASnEcI/aZlseyFCEu9JHeTXH93f0Kk8couGiniK3sRoe/M2eNFJ99Y6bqx97MYeQMJgZ4qtWTAoB7kWz2TIDGy28GDh/uSqeuaNP6WhNMypB7NyTeXAdhgiNm4OUzld4uFDvb4MUgIHDVUp60pgV23zpT3GFdjzUMuJZjyDSTuzO30hfDfW9TBG1WD/ngsc6Y8Qnf1ko/QJn/ZkTetSwPOP6nvlHjS+cm2MsT/sti7UlRuCpjPau+zRPGsRD+PYUs/Ib7IRiOBSrm6i5oN3zqckd0kmJJh56Gwu5lkQ1s8leCuFxSIup3szmBtHmjupIY3eaeUa71VvUi76QtYrOcTAdlGhD6Jt+RdSoFSoH65AjfPEpgTylGSKHnEE67kFnE/HHYVEzdD1wfcwZ15ob7ZVn/E+2WqhQ9myLHzvR4kLn/fo26k8qiXuMNkgL2/KXxm0xaHrrT1HR87jBsDVZKrOsV8QfXex+w7puOy79GCM4WORoUAXHrfYbR72rJT9ZKiH13bbLaHjUG336QcU3IhP9rrbOcBfAdAezd5D//BSoE1LCJcJAjKdPKjmqxI0rlmYEtKpJHJReduPY+8z5m/DwSrtPTvI4s33xMTLJZQOoDqUtfL+NvZY/5Bq+a4xhcfjwC4Rf36mhDo7ejOQWJxlvzzGtKqxTiQKx9Kn+qaiidiTfXBzlhZ06wAGPV2ZEKBr/3OFY0zafVWxh83+pvJkN547RaZx7H1H4SuUESloYQa5guPyKzjhHxZT7SiQZ0oS1vx5bO+v3MyhoDMlfY4UYFdpQP0KDC8o6iewhs7XUFdk1kp7SULt9HAKQ2G/JRNctgTyDN0QhFHHSCmUljCPFaQ35hnwtvdL6+LTEF/bTqjzQYvgVRggJCsTLra6x+dT1MzCeG8mNA7ulFEUQapE6lET5jdOABuBozjcZGRvdJV4mLUEIRWeiFZRDD9Q8S3bbyBtkA/ov0I57b/VYuSJcxwB+uOYnTqtBpLhljcYf1ZXasMEih4yPOTndWleIeTf3wq9a6cxLnpoGJ+vodLpv0did1ydkhO/olNtqq2/9qcls3iHdJVt9vtCwod0YzyxD9r3K6+vYN3iIkk2CJQg+2A9Q6CvbkSpI/gbgFA+QSiWR+5NLybT0aZMCellwNXnzKms9xFpbMETK/vCQZxP03MXMMXRpvzCNBzrvO62bnEc44hweFzJqyuop5EpNcISSYzO/FQG1FpM0mch4MAMJDj279R0fMijvAsP/xSINF35IG/A7ctytRPYh/nfTwsKmt/fb8gAIXKFpfpSG6lMNJ0v6dl0ro3pNwQa492LgY9S7jo6uWQXJgJi3ZZmMuGUIkaGoagagYWikT8/ijtsFgcFtA9UMg5Klv4f8YtPN9kEy6dF00hJPYK1vzve/caWm9CyJOzsZNyyuVZPlHChoHHR5zFomVy4SdYoJNvHpbBUzQnGj1EgCheJ1uFCFi4P1lEUaSihfbnDPmyYeL+a2CJ6RKiqVmnKtByTih3adNkLED2NJfspDKXcSrABX1rdkwFlYEd9ah43WeQQfEWfDGq6a99N/MD8yMOy6jDAGxhCnLM4rYWdI1VW9XBxRZdEsSg20C5b+pkrX4egeZ27Pd5dCu5KtQfJEt63pxKk40O9WAguSpQXsfmxBe0ZVjkhcMRa6LsGA63GgDKGmcQ5xvO1QxjaiVKav1LyrtV3WsbEliaFmFOjQU1XoNsxM1aOeTSvecKXBzcJM/IKDdXz90+9tm/lyiFzyGyaBP6ncrdhh5aL4R/OgXkYD1UmjWytocLX6bl2TFjuiyXQEiphuXi50vaP8gc9CktKVJs0rQB+ntojFviMSxjeZGa+nbWnFBuiMz0QYPXLHnDKNdKqSE5ujBAisyERTvBBvBNf3oBLjdG3/3rlpXnPWBqAvQp7xOL0MntVhFikTNOoIrTxe+aQ40J9swqHQahf1QBnLM2O4zqtfuSyJBvXniUeVFEWeZjL7rsjSpzK5qKWqkxCFDPfaqaR3u61lD90vMlEfRP9cfTJNAy27e+dBv71Sx4ZaAOOW4JVATRkH+/6ZrMKFdpir4cPMM6/tDglHpxus6GpdiVgDmKoEZ/FHwvGuVrJ0lSL5qzKlufFYoIl7llrwGMk91szsmv3XZtBivuiX8FR8T4NX8xFt6DxsTrdsWgx0WGIA7dbpxD2DP3PDm6jB3itO5TbgjWzEfEiImC52kY3JcszSHeldGooSerQvlboiL5GRJaK/bCINFof6chRJuTOMpnXSGKnYYfNoq+Uh8BwaGZXfgWvzoemWGwY+xuKDY/jsW4ZKs5fxMGKvDVCNp0nsyMAy0Oiugl1RR5rsORxmx/ICzLqmvJqDrUBAafWh0qOWVLvU/uap41/o8HP5uplJKidRrH34seWxqAxFrH70yzesl1CLKWQUPKzg/ELzis5YqNcua0E64bqcxkLW4YAoZvlJEkCVb1UYNGj+mGp00mHzGrPAfydgP7rQqchXgTdDeyUSZMpEEfbDZ/D1O6G6aKzYExB0R5YLVLJPS1iDRU/PhVWieaNMXAT8XL0SAzMRS5MwVnX/4BgqSaR4+hrbuu2gvlrFtBgzlCedcFni66Fsrs0cnSIRsA07yyJD/SRToEi2dab4KUld5SWxzMEFUV4fjAS8C1VhbRTSZDTA57PYMWCh4qkLDXE1R7Cjj5ADRhYctzBZiLBaBEpIqJBRo/nBA51dgWWGIXQompDFs2J26msHjpg54Q4fKdO234Lt9hg0v1gWQKl5s7JyevTBvom76gT5TzD07RLw2dji1DSXeqxBESwmlJEhtCyBcGkXyr6dvEdeiycQDK+qkHsiVCneiPWx+6NeMTheyWeYYYReUJ13FdssjzjL5bNovdQuRe8WKF3MUGmkeXYOOVeLC9l4IxVg/FwglDKxB/a5Rc9KUKdh5JjEL9k25bHhLXrXp4TgSumRajn5zMqGjQX89xXPpXWmGeaALW6K3u7KpSzQu1XrID0bajtT/A0KFcmZl45/hn4YMz+QMhdQVMpU4c45Ctx1qAE9Uuqyhr1jXRlp1Pr7rLCuVkpOkrzWrq+kiqPLC8JEs5kesIMf9u54KE+VxwKdfXaCxpLWVFCTTdWiWP+yAOqbUXoaiLEaGCYVqmvMXxmWNXgqG8ee+/VT31XYNSotD5d/CDD5LDDe9ENXSBoJtF9+DZJ2EYDmkkRlbkSV7J86ni2MXsO8fU6AbiMqJRcmzQ/WiZiZeKnhJHihFsH03k8XlNU4lpOvAo0DzYs/ET7y0ysxvhwUJUfad3dlZRQ3Hi9dNbUCEhd37/qNGWp/7+KUFVX9Q/3XbFBUizjwUdlwCGhl7dn6ZlSjMpGhJl4gNYiV1TbKhgTK5j/N/66HG1nU6Zgz9/hVF0bI+oh8MVeeK8+UKcHu3T0k18pbgVQh6pDJIut36E9Ytdwoh0KEqJZOHflu3NUDJg2nbUDMFWzTxA+D/TzXJJyYnaBTkUpmsgYZNy2pO3Wqj/nLaRZskArYe0tZAuuAgzbdbyJ9tYhQ28F+oQu/yIyjWGVo3dZMxc9zFK6cAFriGUiPURSB0R9tQjNi0YYHSw09SlQbgQmecFpaLZGRvFP36aEADOlthgRS2PvI+MBnUrU0AziBE8rIE3gUwnkZ735YJJU9D0QF/vVxvok5Vm8Bru93mY1egMDEStAHn1PhVZWTUu0PqAXoOd+39KWD9LQ+HIxLPo+07zCmeRJW7+jonQFAoytPGaRw4OZG20X6MtndIoUNY8ef6kaipGRW2YWst712IXzRKnIvb4FdmofI2C0pDqBcfZZutSgIMd1DKtkFEjj/Yl9VjLoIg72LRVoBSjnhJrY8pMfFZTxcPgg2SHzd/zsnY+lxzsIHCBuZ8wryL0LHQF7zcQ/HstK1fY8O069+codNcz2SbTe4bHn9Sb7f34DHjrZwL9DW+WRpo7hfcGmBbLVMdvSF07MnYDJ0oXPGf4Lv1juBEnTiYmXopcCApCP6ZY7fvtOv72k1gVv57mI5xBlZagsOqEwSxGVuDm3eIIiOScGvnIRpr+dcTYFHViPGjfV7TJWI7h3hl9getXmh8ik3yoU/41cyMz1OTaiO79zgT89Tlr1vv2h/NTcotMw3IBwYQ0S4xHbkqoyESCbB9K/uSB6EQGPlAEEAl6bcsXMDjG5rT8tFWGKcXqXE3gjisJiHLtmOC91rHBMdZTJGB+rVSOa0UJdSPmF4zeV7yM2gAJMW9SoGFIX2tYnZz9pjzMD4TiGqaFYc2Hge8vwOp7pvZEB0Zr6lJ+KiA6WZkONGPkhTLlpG8MSo0RbUKuw4ekmdY9sXKGQA4IKOyz+a772DXRd/OiaS1z+AUmWOB0erVqQrCsMFtmxs//KZ242UOQhyMF3MArkccBUPQWUYAj+GSNmROYcxDxBKOKjQ+FRfPvk7pU+Rin7pJLoArZCMlntsazTq0F4j/y0WqwbN+Hgn+QywX+K0S6nsIHDT4uk9YKmKutY8WJBDj5rp9fOukCIa5dNTi/fo8uvQEtxOt+rXbwnbOaVTiUf+WCO+ZveyBGyg2539+vqUGOCbfYB1mhB0YLvmII+yX48uTF3n1rpUAK/zOg+MKkOKcmOE72Kn4NeJyGrHkLtQGsSfNs87sxGPmjRWx52BjD624yURMku9YCR2GePyF/F7JC5FEAEcY1IEHkDF7PRR6viCCp+3rQp1QXlZlYSQ1PQTXvk4dAa62SyKPDlJ7t23ItZEclSLGA0dCpv7AuNdP9DWd4lH+U/4Gjdnc1IP0cOoBeOkLLNDirDmF2kstD6rJ15/bRs+ckYkhzfk0CFstUm3DBd9D1RXwNybRB1AEUkMvBoDHDl4FKyStImcx6kdr54HRXubqs4kZc5hl14iFwBrtxJnyX8Y6JV70Z9OahgILCFG7vRxmMlhKU/cU4SSj2KAWfUNjzRMvx3y4MWahGdBJgTtpONn4n/uQL7dx3QbVktXHFsAh+EAzTQ2UM/uExQ5nUeApJhNDhVgTFNTMjmg3gaGeOSGb7XllFau864o7Y5/MDcTnVJPXfDUkgCT7X/88WKQPptBjpTVSGiuhuedxOyTfbGGXcaYMPqjH+/Deeica+ySvzDzouG8g09WyImMAyk1482h7BBBFtA35UOP/qn4hcF08k6QMzR8KozK7TK2lplJ/5XPiU02XjCOtmaWzmkCSueO1K7CaAB9Pk4tnbex6Dqvrk0kkjnQmFznbnubOwz9ZW2k3SWJl2hf1djq357pGXeqWYCWl/l//5mMPK1NGJZ1Vn/L3f03f3CSzOxmJVaBVlkY19xAt8CXdknrZrDjw6RPWWUn7QtX822ztXegHwWUW1k+POODSfgvfmfPoDAyuc7thjFTg8MuAlUNUhROGD9fhlPpOtOPxsMcPNBPFCkuTd4v+prT6Jqy8KgEXkAAAKFQZokbEv/xCi3TpnsySFwmzj2g40nXwBHNo23NKkGDrUmPy+wBpLrZ5pYoTnp3EZ5hds8mpB1OI0DFe1/LJ+LVMsRsBWKWVgWo632Lv2diVjAGZzptQMgCmmiRtbScdfsvH1lsRY69fk029qjGZ+LtErKwrzG/2FsNKE9C0VYL3HitLMULJXz0/RTnTu3DXJ7vZKMi0ZUJjJcdhO5F0LcOTe5+tpSy6RbgpbKTIv1YUU/fzw5zhN5koEIN7iwiDtgYTXgr6czPD+n87laXbfthPQRqSms6aEXMZn7ozzLNxgbR4vB6x/l84XAGFT5+EIYZxjDmUOJg6xMPr9oWAv9N26Xf2N/3RnZnPvR1FHwF5gHgHCA0k1w7Fxz49gKLQ8yNVqPFqM9qkpX3JB06E/EpCkiKTPyMCSeJJoEnjlF6iMeI1Jsz56o9jDZwPhVUnknlxHS5RZ7Y9GL+EiGUqDNsUGNko5NZad/A95Za+NdvkfmnIbwEmCBrzuelL0FzH0J8Ab9eufMxxhfjJhwz4+LSnAgMHNMSBAN7c/ZUOHd+26PA1evreZtja18UfesquMrbfVo2PvlYmEFbQIsMfMm80Hiey81g8+Z4feMASZ1rb8IUlugmqtVKGm5Jv+l2whGUPcMFPFYUpGeCEjtL1wMdNfr3xiGf1g9k4ClNEAUg8yfLOojL78o5rTKLcSKUOT8IwFMj8owuiAo9tYq1dJu+6gRyYF8/BFST1jvTtcEJagFSSBqwou9/H6fbibpQ/hFYoupKj/P5yzMcacR2uIAgTOM0MFC9OsrPzGf12uww2gpuNmj1KRXfe+k7FHiVz6fJfmtp1IiKa16C+3/mquw8TqUw6N0AAABq0GeQni/w8iljWdZEFuaBI0msyJF/yy6708aClZzO/Jc25yNbarfPULOk9HR5Dy7KmkrXLZAFFuveFneUvldO/F3zK2BSynlxbCXORxTncg5O0KyoW5y4kh019OgA521Sw1fjnStBYH+rai2cVeQfAY5TexeIqPUiI729Ewt18/jQXfxGZvSh+BhFj3qfXANKn9qzz2RxeZrXItQnkfWXZsL6HGoGsxhFVpnTOnpKDnYvNUEf50FK3DywPKAAFjizazZ/mA1s43i6yJsIfS+GXQwZVPNQzrSC8ZZkViEEEMXWmNYG6rgsFRACifbiSrPlMyDlC5TJJKROlWTaZbU8EgNHfhS4QDa/CdACZS/ElwFDXpKEnKZuzfnzS7VrBlGDZLQ7NEXSBQRs431GxtJY5LZbJ5tQVR61x2scu90o3kBqjKXu4PASCYpC9KToKmJDSdgPPAO2hcerboAvNNDGy6tcqnrT6ODxKoiCipvikZ3IjIaIuXEC8+gZBxVfExqrg4FrfLNvM0IMv/Yh+jWcYrovtbS2dXE6ZuexoqwzQ3mMd67xbQFpu4s4d0AAAGaAZ5hdFfIBaicp6+XEwSDLF/yyztcGID/MaGzyXNucjW01LvHfRQlRN98TjRJEn1MexhkGHgdHCbDRyE7k7cuwNxjCme0RmKZhRvdAq4YdrHCL5T23giiLi3yHyq21Pee01N6QQ4yKxZbwCc1v/S6pG0YQpLW8eYn2AGNNPYysNg3b+bhkW1Htg1XkLXE5g3bECXGh5Z+Fv+W8Y5IimDIdheWxpDy2dS1E/wxlc3XCAoxgPNSDZTzT/a8GMJ87qrWsO4g7nQAMAzD+8paTMxbTZBLaYj8vgGJeBLFcDD0dK7qmYIFauTzGx0JJ1RPNFAAegH5S5IbTdq8SDmkAX3WbY/eN4wijEvU3LYnYQ9REEKVrhXfEUObVvqtkiFYQdHA1YEqJuaYEurPcl35OgABK0FRv/YsYLftXPDyjPI+LqBwfWuL15Z7sUy2unNiqMQAGJHWK8AkjJ3O3nH6+gz/yemfM54AxbUTJNlhoBeSAaBjSu54snI0Oggjx4iqSOYKfs0SL9BG7wzdtNiiLSY1ZSUySk/+WfFw/mAAAAFuAZ5jalcCRAumsOECkhfwoESIUujdcDUs/ccUR0Hs0Z/OUo/ukxi+Fq3Ki940OW40Tdh+8nwCPt0s7Smd2FEP8MADpDUbqNO5zKio7hOCT/xRL0lasNcLA9kXph48Q5KbKj3edYfwORj6gOfrWN/Qy4WqCxluTFwgtQNpFgu9w62mw9q8DFmL9iz2n+6dEfyJGSGxMb23GKiJZbqMwYF+sfglbe5eA6Y6tVxx0bHM3AOR7RkwKHgJXtJ++V59/FroVXo4txDmdtBM9RrulvEqUhXpAp5e3Xg99K2h/ASBRvs2bRZ+v11BDsMsaIGrXXiSYuDf662CwQ2K2SfbcSXAfZS1rLRvuQI5XVRCigOrlk4FAO2C9sGhJhStwFmRMCV2UODNsQAoplaLFVha2uNUIIcot7txIl6zFkwwArzMKvGlnU3yPa0AV0RDjm3gV6NQI3tF8s3ux8VtoGYLbNCV238vsVetn1mltYDnMZHbAAABi0GaZkmoQWiZTBT1/wAApr5a7uABpyF6I9UaeMZXnndI+IwZ0i2qJeE8NhdZMJfo6gFvULh62xyLwtDMNecYI1iVQqFECSi63cGP4N4a80fAYsMCey3PyJGnVwWnPQQWwm+sAxI3alyd49KnbwSGLfgVVoEfRNKyE5HvEHuXptfa+J6xqG4GCdpp4V2Yn3RNVE5NzP5GOPz6d/RaWUptfJj/7GUQEdb84x7WxcJcfrGkRGiS/8izh1J63TN//umWrI9Imw930GLXYHuQO9us3MDf6CWLT0qTkLsWqAyAZ+Gs2k1YppqFx2tFk9ZN1g75j6Q68+eoemLKmmC7gYWp8gV9GHTSSWNyhIPBAwGPeprHmflhTk/emhBW50XiK3/hRv0V50nLb2K4xJ64y3orQae4UaW/gz9qD+k9j9A1MFAVcLo5Vm56Nx4itBEEAHRlYUyxEZAo+ldFBLFLokOXU7EfZ5iM7ooABnj2CCjFarW/CiGhaULzTwVWXWGNkQ+36yfBbysiZGmAcVPPAAABqgGehWpXAdXVugRF9h/3H4mCQZYv+WWd9RGTeYVkB8lzbnI1t82P/MXCPFPn5Dy6enrBf5UsLNsnrwglocMfEGOiwtecFrp/UXc5zINdqHDEfB74j8kdeRfa7+mwAcGEUb+wefYL3+Tlf5V73eV3fYtxwolbvJ+BvfDkJRGRqj+pPgDjnmN+jyaiWmYkgm5PiVP7Vnnsji8zWuRajeqOFU8vuUUta31lyD7GKuLqNzmuvvAtaZvNhh5x9dk3GCdDSZTtW/sGAuRRsMSOGan4YZBp4Lq66Ec9dU28WST9BoTp80JVQgXoq5MOmqk0aNrXZy4eGL6sqHpK0ROfS2cVAVYiZ5Hfj5O3SJQoBED1+J5Kf+dvo7DnKZj4MQ7TEFrETNj1/rvXgYgvymQQu9UwQ6j4vSjymtA6HkG4KtssN0wjeQGqMpe7g8BIJidOvHzIWsTDX5rDK3DdC49XtQX0aaDNt1Y59PuT5pNtXPvA1WGz1gFT/Su3EaA3O6YHeRFnyze/kv9MbNpM0JRDfdcPcOerKAm/GsqU42dM4P86EAVwjmkX8i02IibkgQAAA2Ztb292AAAAbG12aGQAAAAAAAAAAAAAAAAAAAPoAAAFeAABAAABAAAAAAAAAAAAAAAAAQAAAAAAAAAAAAAAAAAAAAEAAAAAAAAAAAAAAAAAAEAAAAAAAAAAAAAAAAAAAAAAAAAAAAAAAAAAAAAAAAACAAACkHRyYWsAAABcdGtoZAAAAAMAAAAAAAAAAAAAAAEAAAAAAAAFeAAAAAAAAAAAAAAAAAAAAAAAAQAAAAAAAAAAAAAAAAAAAAEAAAAAAAAAAAAAAAAAAEAAAAABAAAAAQAAAAAAACRlZHRzAAAAHGVsc3QAAAAAAAAAAQAABXgAABAAAAEAAAAAAghtZGlhAAAAIG1kaGQAAAAAAAAAAAAAAAAAACgAAAA4AFXEAAAAAAAtaGRscgAAAAAAAAAAdmlkZQAAAAAAAAAAAAAAAFZpZGVvSGFuZGxlcgAAAAGzbWluZgAAABR2bWhkAAAAAQAAAAAAAAAAAAAAJGRpbmYAAAAcZHJlZgAAAAAAAAABAAAADHVybCAAAAABAAABc3N0YmwAAACXc3RzZAAAAAAAAAABAAAAh2F2YzEAAAAAAAAAAQAAAAAAAAAAAAAAAAAAAAABAAEAAEgAAABIAAAAAAAAAAEAAAAAAAAAAAAAAAAAAAAAAAAAAAAAAAAAAAAAAAAAAAAY//8AAAAxYXZjQwFkAAz/4QAYZ2QADKzZQQCGhAAAAwAEAAADACg8UKZYAQAGaOvjyyLAAAAAGHN0dHMAAAAAAAAAAQAAAAcAAAgAAAAAFHN0c3MAAAAAAAAAAQAAAAEAAABIY3R0cwAAAAAAAAAHAAAAAQAAEAAAAAABAAAoAAAAAAEAABAAAAAAAQAAAAAAAAABAAAIAAAAAAEAABgAAAAAAQAACAAAAAAcc3RzYwAAAAAAAAABAAAAAQAAAAcAAAABAAAAMHN0c3oAAAAAAAAAAAAAAAcAAErbAAACiQAAAa8AAAGeAAABcgAAAY8AAAGuAAAAFHN0Y28AAAAAAAAAAQAAADAAAABidWR0YQAAAFptZXRhAAAAAAAAACFoZGxyAAAAAAAAAABtZGlyYXBwbAAAAAAAAAAAAAAAAC1pbHN0AAAAJal0b28AAAAdZGF0YQAAAAEAAAAATGF2ZjU4LjI5LjEwMA==\"></video>"
      ],
      "text/plain": [
       "<IPython.core.display.HTML object>"
      ]
     },
     "execution_count": 152,
     "metadata": {},
     "output_type": "execute_result"
    }
   ],
   "source": [
    "# TODO: test the policy on the environment\n",
    "env = gym.make(\"FrozenLake-v1\", map_name=\"4x4\", is_slippery=False, render_mode='rgb_array')\n",
    "total_reward = record_video(env, policy, 'frozenlake_random.mp4', fps=5, random_action=False)\n",
    "print(f\"total reward: {total_reward}\")\n",
    "show_video('frozenlake_random.mp4', video_width=500)"
   ]
  }
 ],
 "metadata": {
  "colab": {
   "provenance": []
  },
  "kernelspec": {
   "display_name": "Python 3 (ipykernel)",
   "language": "python",
   "name": "python3"
  },
  "language_info": {
   "codemirror_mode": {
    "name": "ipython",
    "version": 3
   },
   "file_extension": ".py",
   "mimetype": "text/x-python",
   "name": "python",
   "nbconvert_exporter": "python",
   "pygments_lexer": "ipython3",
   "version": "3.10.9"
  }
 },
 "nbformat": 4,
 "nbformat_minor": 1
}
